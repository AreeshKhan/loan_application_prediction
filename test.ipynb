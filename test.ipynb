{
 "cells": [
  {
   "cell_type": "code",
   "execution_count": 1,
   "metadata": {},
   "outputs": [],
   "source": [
    "import pandas as pd\n",
    "import numpy as np\n",
    "import matplotlib.pyplot as plt\n",
    "import seaborn as  sns"
   ]
  },
  {
   "cell_type": "code",
   "execution_count": 2,
   "metadata": {},
   "outputs": [],
   "source": [
    "df1=pd.read_csv('Data/Assignment_Test.csv')\n",
    "df2=pd.read_csv('cleaned_dataset/cleaned_trian_data.csv')"
   ]
  },
  {
   "cell_type": "code",
   "execution_count": 3,
   "metadata": {},
   "outputs": [
    {
     "data": {
      "text/plain": [
       "0"
      ]
     },
     "execution_count": 3,
     "metadata": {},
     "output_type": "execute_result"
    }
   ],
   "source": [
    "df1.duplicated().sum()"
   ]
  },
  {
   "cell_type": "code",
   "execution_count": 4,
   "metadata": {},
   "outputs": [
    {
     "data": {
      "text/plain": [
       "Index(['DEALER ID', 'Cibil Score', 'TOTAL ASSET COST', 'ASSET CTG',\n",
       "       'ASSET MODEL NO', 'MARITAL STATUS', 'GENDER', 'ADDRESS TYPE',\n",
       "       'EMPLOY CONSTITUTION', 'EMPLOYER TYPE', 'phone_digitalage'],\n",
       "      dtype='object')"
      ]
     },
     "execution_count": 4,
     "metadata": {},
     "output_type": "execute_result"
    }
   ],
   "source": [
    "common_columns = df1.columns.intersection(df2.columns)\n",
    "common_columns"
   ]
  },
  {
   "cell_type": "code",
   "execution_count": 5,
   "metadata": {},
   "outputs": [
    {
     "data": {
      "text/html": [
       "<div>\n",
       "<style scoped>\n",
       "    .dataframe tbody tr th:only-of-type {\n",
       "        vertical-align: middle;\n",
       "    }\n",
       "\n",
       "    .dataframe tbody tr th {\n",
       "        vertical-align: top;\n",
       "    }\n",
       "\n",
       "    .dataframe thead th {\n",
       "        text-align: right;\n",
       "    }\n",
       "</style>\n",
       "<table border=\"1\" class=\"dataframe\">\n",
       "  <thead>\n",
       "    <tr style=\"text-align: right;\">\n",
       "      <th></th>\n",
       "      <th>DEALER ID</th>\n",
       "      <th>Cibil Score</th>\n",
       "      <th>TOTAL ASSET COST</th>\n",
       "      <th>ASSET CTG</th>\n",
       "      <th>ASSET MODEL NO</th>\n",
       "      <th>MARITAL STATUS</th>\n",
       "      <th>GENDER</th>\n",
       "      <th>ADDRESS TYPE</th>\n",
       "      <th>EMPLOY CONSTITUTION</th>\n",
       "      <th>EMPLOYER TYPE</th>\n",
       "      <th>phone_digitalage</th>\n",
       "    </tr>\n",
       "  </thead>\n",
       "  <tbody>\n",
       "    <tr>\n",
       "      <th>0</th>\n",
       "      <td>105615</td>\n",
       "      <td>757</td>\n",
       "      <td>95352.0</td>\n",
       "      <td>SCECA</td>\n",
       "      <td>143241</td>\n",
       "      <td>Married</td>\n",
       "      <td>Male</td>\n",
       "      <td>Self/Spouse Owned</td>\n",
       "      <td>SALARIED</td>\n",
       "      <td>SALARIED</td>\n",
       "      <td>676</td>\n",
       "    </tr>\n",
       "    <tr>\n",
       "      <th>1</th>\n",
       "      <td>91593</td>\n",
       "      <td>750</td>\n",
       "      <td>75371.0</td>\n",
       "      <td>MOECA</td>\n",
       "      <td>166536</td>\n",
       "      <td>Married</td>\n",
       "      <td>Male</td>\n",
       "      <td>Parental</td>\n",
       "      <td>SELF-EMPLOYED</td>\n",
       "      <td>SELF-EMPLOYED</td>\n",
       "      <td>897</td>\n",
       "    </tr>\n",
       "    <tr>\n",
       "      <th>2</th>\n",
       "      <td>74152</td>\n",
       "      <td>710</td>\n",
       "      <td>94983.0</td>\n",
       "      <td>SCECA</td>\n",
       "      <td>134123</td>\n",
       "      <td>Single</td>\n",
       "      <td>Male</td>\n",
       "      <td>Self/Spouse Owned</td>\n",
       "      <td>SELF-EMPLOYED</td>\n",
       "      <td>SELF-EMPLOYED</td>\n",
       "      <td>839</td>\n",
       "    </tr>\n",
       "    <tr>\n",
       "      <th>3</th>\n",
       "      <td>110164</td>\n",
       "      <td>695</td>\n",
       "      <td>NaN</td>\n",
       "      <td>NaN</td>\n",
       "      <td>143627</td>\n",
       "      <td>NaN</td>\n",
       "      <td>Male</td>\n",
       "      <td>NaN</td>\n",
       "      <td>NaN</td>\n",
       "      <td>NaN</td>\n",
       "      <td>2050</td>\n",
       "    </tr>\n",
       "    <tr>\n",
       "      <th>4</th>\n",
       "      <td>113037</td>\n",
       "      <td>NaN</td>\n",
       "      <td>90277.0</td>\n",
       "      <td>MCECA</td>\n",
       "      <td>143948</td>\n",
       "      <td>Single</td>\n",
       "      <td>Male</td>\n",
       "      <td>Parental</td>\n",
       "      <td>SELF-EMPLOYED</td>\n",
       "      <td>SELF-EMPLOYED</td>\n",
       "      <td>-1</td>\n",
       "    </tr>\n",
       "    <tr>\n",
       "      <th>...</th>\n",
       "      <td>...</td>\n",
       "      <td>...</td>\n",
       "      <td>...</td>\n",
       "      <td>...</td>\n",
       "      <td>...</td>\n",
       "      <td>...</td>\n",
       "      <td>...</td>\n",
       "      <td>...</td>\n",
       "      <td>...</td>\n",
       "      <td>...</td>\n",
       "      <td>...</td>\n",
       "    </tr>\n",
       "    <tr>\n",
       "      <th>1995</th>\n",
       "      <td>110697</td>\n",
       "      <td>734</td>\n",
       "      <td>89700.0</td>\n",
       "      <td>MCECA</td>\n",
       "      <td>138469</td>\n",
       "      <td>Single</td>\n",
       "      <td>Male</td>\n",
       "      <td>Parental</td>\n",
       "      <td>SELF-EMPLOYED</td>\n",
       "      <td>SELF-EMPLOYED</td>\n",
       "      <td>1998</td>\n",
       "    </tr>\n",
       "    <tr>\n",
       "      <th>1996</th>\n",
       "      <td>107225</td>\n",
       "      <td>727</td>\n",
       "      <td>98000.0</td>\n",
       "      <td>MCECA</td>\n",
       "      <td>180580</td>\n",
       "      <td>Married</td>\n",
       "      <td>Male</td>\n",
       "      <td>Self/Spouse Owned</td>\n",
       "      <td>SELF-EMPLOYED</td>\n",
       "      <td>SELF-EMPLOYED</td>\n",
       "      <td>277</td>\n",
       "    </tr>\n",
       "    <tr>\n",
       "      <th>1997</th>\n",
       "      <td>92743</td>\n",
       "      <td>675</td>\n",
       "      <td>NaN</td>\n",
       "      <td>NaN</td>\n",
       "      <td>143233</td>\n",
       "      <td>NaN</td>\n",
       "      <td>Male</td>\n",
       "      <td>NaN</td>\n",
       "      <td>NaN</td>\n",
       "      <td>NaN</td>\n",
       "      <td>540</td>\n",
       "    </tr>\n",
       "    <tr>\n",
       "      <th>1998</th>\n",
       "      <td>193608</td>\n",
       "      <td>741</td>\n",
       "      <td>87101.0</td>\n",
       "      <td>MCECA</td>\n",
       "      <td>140208</td>\n",
       "      <td>Married</td>\n",
       "      <td>Male</td>\n",
       "      <td>Self/Spouse Owned</td>\n",
       "      <td>SELF-EMPLOYED</td>\n",
       "      <td>SELF-EMPLOYED</td>\n",
       "      <td>1671</td>\n",
       "    </tr>\n",
       "    <tr>\n",
       "      <th>1999</th>\n",
       "      <td>84909</td>\n",
       "      <td>NaN</td>\n",
       "      <td>92425.0</td>\n",
       "      <td>MCECA</td>\n",
       "      <td>199546</td>\n",
       "      <td>Married</td>\n",
       "      <td>Male</td>\n",
       "      <td>Self/Spouse Owned</td>\n",
       "      <td>SELF-EMPLOYED</td>\n",
       "      <td>SELF-EMPLOYED</td>\n",
       "      <td>1988</td>\n",
       "    </tr>\n",
       "  </tbody>\n",
       "</table>\n",
       "<p>2000 rows × 11 columns</p>\n",
       "</div>"
      ],
      "text/plain": [
       "      DEALER ID Cibil Score  TOTAL ASSET COST ASSET CTG  ASSET MODEL NO  \\\n",
       "0        105615         757           95352.0     SCECA          143241   \n",
       "1         91593         750           75371.0     MOECA          166536   \n",
       "2         74152         710           94983.0     SCECA          134123   \n",
       "3        110164         695               NaN       NaN          143627   \n",
       "4        113037         NaN           90277.0     MCECA          143948   \n",
       "...         ...         ...               ...       ...             ...   \n",
       "1995     110697         734           89700.0     MCECA          138469   \n",
       "1996     107225         727           98000.0     MCECA          180580   \n",
       "1997      92743         675               NaN       NaN          143233   \n",
       "1998     193608         741           87101.0     MCECA          140208   \n",
       "1999      84909         NaN           92425.0     MCECA          199546   \n",
       "\n",
       "     MARITAL STATUS GENDER       ADDRESS TYPE EMPLOY CONSTITUTION  \\\n",
       "0           Married   Male  Self/Spouse Owned            SALARIED   \n",
       "1           Married   Male           Parental       SELF-EMPLOYED   \n",
       "2            Single   Male  Self/Spouse Owned       SELF-EMPLOYED   \n",
       "3               NaN   Male                NaN                 NaN   \n",
       "4            Single   Male           Parental       SELF-EMPLOYED   \n",
       "...             ...    ...                ...                 ...   \n",
       "1995         Single   Male           Parental       SELF-EMPLOYED   \n",
       "1996        Married   Male  Self/Spouse Owned       SELF-EMPLOYED   \n",
       "1997            NaN   Male                NaN                 NaN   \n",
       "1998        Married   Male  Self/Spouse Owned       SELF-EMPLOYED   \n",
       "1999        Married   Male  Self/Spouse Owned       SELF-EMPLOYED   \n",
       "\n",
       "      EMPLOYER TYPE  phone_digitalage  \n",
       "0          SALARIED               676  \n",
       "1     SELF-EMPLOYED               897  \n",
       "2     SELF-EMPLOYED               839  \n",
       "3               NaN              2050  \n",
       "4     SELF-EMPLOYED                -1  \n",
       "...             ...               ...  \n",
       "1995  SELF-EMPLOYED              1998  \n",
       "1996  SELF-EMPLOYED               277  \n",
       "1997            NaN               540  \n",
       "1998  SELF-EMPLOYED              1671  \n",
       "1999  SELF-EMPLOYED              1988  \n",
       "\n",
       "[2000 rows x 11 columns]"
      ]
     },
     "execution_count": 5,
     "metadata": {},
     "output_type": "execute_result"
    }
   ],
   "source": [
    "df1=df1[common_columns]\n",
    "df1"
   ]
  },
  {
   "cell_type": "code",
   "execution_count": 6,
   "metadata": {},
   "outputs": [
    {
     "name": "stdout",
     "output_type": "stream",
     "text": [
      "<class 'pandas.core.frame.DataFrame'>\n",
      "RangeIndex: 2000 entries, 0 to 1999\n",
      "Data columns (total 11 columns):\n",
      " #   Column               Non-Null Count  Dtype  \n",
      "---  ------               --------------  -----  \n",
      " 0   DEALER ID            2000 non-null   int64  \n",
      " 1   Cibil Score          1158 non-null   object \n",
      " 2   TOTAL ASSET COST     978 non-null    float64\n",
      " 3   ASSET CTG            978 non-null    object \n",
      " 4   ASSET MODEL NO       2000 non-null   int64  \n",
      " 5   MARITAL STATUS       1019 non-null   object \n",
      " 6   GENDER               2000 non-null   object \n",
      " 7   ADDRESS TYPE         1365 non-null   object \n",
      " 8   EMPLOY CONSTITUTION  1006 non-null   object \n",
      " 9   EMPLOYER TYPE        1006 non-null   object \n",
      " 10  phone_digitalage     2000 non-null   int64  \n",
      "dtypes: float64(1), int64(3), object(7)\n",
      "memory usage: 172.0+ KB\n"
     ]
    }
   ],
   "source": [
    "df1.info()"
   ]
  },
  {
   "cell_type": "code",
   "execution_count": null,
   "metadata": {},
   "outputs": [],
   "source": []
  },
  {
   "cell_type": "code",
   "execution_count": 7,
   "metadata": {},
   "outputs": [
    {
     "data": {
      "text/plain": [
       "DEALER ID                 0\n",
       "Cibil Score             842\n",
       "TOTAL ASSET COST       1022\n",
       "ASSET CTG              1022\n",
       "ASSET MODEL NO            0\n",
       "MARITAL STATUS          981\n",
       "GENDER                    0\n",
       "ADDRESS TYPE            635\n",
       "EMPLOY CONSTITUTION     994\n",
       "EMPLOYER TYPE           994\n",
       "phone_digitalage          0\n",
       "dtype: int64"
      ]
     },
     "execution_count": 7,
     "metadata": {},
     "output_type": "execute_result"
    }
   ],
   "source": [
    "df1.isnull().sum()"
   ]
  },
  {
   "cell_type": "code",
   "execution_count": 8,
   "metadata": {},
   "outputs": [],
   "source": [
    "df1['Cibil Score'] = pd.to_numeric(df1['Cibil Score'], errors='coerce')  # Convert to numeric, coercing non-numeric values to NaN\n"
   ]
  },
  {
   "cell_type": "code",
   "execution_count": 9,
   "metadata": {},
   "outputs": [],
   "source": [
    "# Separate object and numerical columns\n",
    "categorical_cols = df1.select_dtypes(include='object').columns\n",
    "numerical_cols = df1.select_dtypes(include='number').columns"
   ]
  },
  {
   "cell_type": "code",
   "execution_count": 10,
   "metadata": {},
   "outputs": [
    {
     "data": {
      "image/png": "[encoded data removed]",
      "text/plain": [
       "<Figure size 2000x800 with 5 Axes>"
      ]
     },
     "metadata": {},
     "output_type": "display_data"
    }
   ],
   "source": [
    "\n",
    "# Number of columns for the subplots\n",
    "num_cols = 4\n",
    "\n",
    "# Number of rows needed\n",
    "num_rows = (len(numerical_cols) + num_cols - 1) // num_cols\n",
    "\n",
    "# Create subplots\n",
    "fig, axes = plt.subplots(num_rows, num_cols, figsize=(20, 4 * num_rows))\n",
    "axes = axes.flatten()  # Flatten the array of axes for easy iteration\n",
    "\n",
    "# Plot histograms and KDEs\n",
    "for i, col in enumerate(numerical_cols):\n",
    "    ax = axes[i]\n",
    "    sns.histplot(df1[col], kde=True, ax=ax, bins=30, edgecolor='black')\n",
    "    ax.set_title(f\"{col}\")\n",
    "    ax.set_xlabel(col)\n",
    "    ax.set_ylabel(\"Frequency\")\n",
    "\n",
    "# Hide any unused subplots\n",
    "for j in range(len(numerical_cols), len(axes)):\n",
    "    fig.delaxes(axes[j])\n",
    "\n",
    "# Adjust layout\n",
    "plt.tight_layout()\n",
    "plt.show()"
   ]
  },
  {
   "cell_type": "code",
   "execution_count": 11,
   "metadata": {},
   "outputs": [
    {
     "name": "stdout",
     "output_type": "stream",
     "text": [
      "Value counts of DEALER ID:\n",
      "DEALER ID\n",
      "112006    20\n",
      "88282     18\n",
      "73665     10\n",
      "97418     10\n",
      "94065     10\n",
      "          ..\n",
      "74368      1\n",
      "113386     1\n",
      "108147     1\n",
      "55971      1\n",
      "84909      1\n",
      "Name: count, Length: 1145, dtype: int64\n",
      "****************************************************************************************************\n",
      "Value counts of Cibil Score:\n",
      "Cibil Score\n",
      "546.0    22\n",
      "734.0    21\n",
      "752.0    20\n",
      "728.0    19\n",
      "753.0    17\n",
      "         ..\n",
      "550.0     1\n",
      "609.0     1\n",
      "678.0     1\n",
      "568.0     1\n",
      "685.0     1\n",
      "Name: count, Length: 222, dtype: int64\n",
      "****************************************************************************************************\n",
      "Value counts of TOTAL ASSET COST:\n",
      "TOTAL ASSET COST\n",
      "110500.0    4\n",
      "86500.0     3\n",
      "105927.0    3\n",
      "93000.0     3\n",
      "89000.0     3\n",
      "           ..\n",
      "99135.0     1\n",
      "104632.0    1\n",
      "90730.0     1\n",
      "86584.0     1\n",
      "92425.0     1\n",
      "Name: count, Length: 907, dtype: int64\n",
      "****************************************************************************************************\n",
      "Value counts of ASSET MODEL NO:\n",
      "ASSET MODEL NO\n",
      "143240    149\n",
      "140208    137\n",
      "199546    116\n",
      "140212    101\n",
      "129101     85\n",
      "         ... \n",
      "134895      1\n",
      "129823      1\n",
      "192855      1\n",
      "185326      1\n",
      "133252      1\n",
      "Name: count, Length: 192, dtype: int64\n",
      "****************************************************************************************************\n",
      "Value counts of phone_digitalage:\n",
      "phone_digitalage\n",
      " 1998    299\n",
      " 1988    266\n",
      "-1        83\n",
      " 2396     80\n",
      " 698      31\n",
      "        ... \n",
      " 1897      1\n",
      " 3382      1\n",
      " 1873      1\n",
      " 737       1\n",
      " 277       1\n",
      "Name: count, Length: 652, dtype: int64\n",
      "****************************************************************************************************\n"
     ]
    }
   ],
   "source": [
    "\n",
    "# Check value counts of object columns\n",
    "for col in numerical_cols:\n",
    "    print(f\"Value counts of {col}:\")\n",
    "    print(df1[col].value_counts())\n",
    "    print('*'*100)"
   ]
  },
  {
   "cell_type": "code",
   "execution_count": 12,
   "metadata": {},
   "outputs": [
    {
     "data": {
      "text/plain": [
       "(726.0, 94535.5)"
      ]
     },
     "execution_count": 12,
     "metadata": {},
     "output_type": "execute_result"
    }
   ],
   "source": [
    "asset_cost_median=df1['TOTAL ASSET COST'].median()\n",
    "cibil_median=df1['Cibil Score'].median()\n",
    "cibil_median,asset_cost_median"
   ]
  },
  {
   "cell_type": "code",
   "execution_count": 13,
   "metadata": {},
   "outputs": [],
   "source": [
    "df1['TOTAL ASSET COST'] = df1['TOTAL ASSET COST'].fillna(asset_cost_median)\n",
    "df1['Cibil Score'] = df1['Cibil Score'].fillna(cibil_median)\n"
   ]
  },
  {
   "cell_type": "code",
   "execution_count": 14,
   "metadata": {},
   "outputs": [],
   "source": [
    "for col in numerical_cols:\n",
    "    unique_values = df1[col].dropna().unique()\n",
    "    random_values = np.random.choice(unique_values, size=df1[col].isnull().sum())\n",
    "    df1.loc[df1[col].isnull(), col] = random_values"
   ]
  },
  {
   "cell_type": "code",
   "execution_count": 15,
   "metadata": {},
   "outputs": [
    {
     "data": {
      "text/plain": [
       "DEALER ID           0\n",
       "Cibil Score         0\n",
       "TOTAL ASSET COST    0\n",
       "ASSET MODEL NO      0\n",
       "phone_digitalage    0\n",
       "dtype: int64"
      ]
     },
     "execution_count": 15,
     "metadata": {},
     "output_type": "execute_result"
    }
   ],
   "source": [
    "df1[numerical_cols].isnull().sum()"
   ]
  },
  {
   "cell_type": "code",
   "execution_count": 16,
   "metadata": {},
   "outputs": [
    {
     "name": "stdout",
     "output_type": "stream",
     "text": [
      "Value counts of ASSET CTG:\n",
      "ASSET CTG\n",
      "MCECA    373\n",
      "SCECA    261\n",
      "MCEXA    229\n",
      "SCEXA     47\n",
      "MCPRA     24\n",
      "MCECB     12\n",
      "MOECA     11\n",
      "ESECB      9\n",
      "MCEXB      5\n",
      "MCECC      4\n",
      "ESNRC      2\n",
      "EMECA      1\n",
      "Name: count, dtype: int64\n",
      "****************************************************************************************************\n",
      "Value counts of MARITAL STATUS:\n",
      "MARITAL STATUS\n",
      "Married    764\n",
      "Single     255\n",
      "Name: count, dtype: int64\n",
      "****************************************************************************************************\n",
      "Value counts of GENDER:\n",
      "GENDER\n",
      "Male      1672\n",
      "Female     328\n",
      "Name: count, dtype: int64\n",
      "****************************************************************************************************\n",
      "Value counts of ADDRESS TYPE:\n",
      "ADDRESS TYPE\n",
      "Self/Spouse Owned    477\n",
      "RESIDENCE            453\n",
      "Parental             346\n",
      "Rented                85\n",
      "Company Provided       2\n",
      "OWNED-PENTHOUSE        1\n",
      "OTHERS                 1\n",
      "Name: count, dtype: int64\n",
      "****************************************************************************************************\n",
      "Value counts of EMPLOY CONSTITUTION:\n",
      "EMPLOY CONSTITUTION\n",
      "SELF-EMPLOYED    708\n",
      "SALARIED         298\n",
      "Name: count, dtype: int64\n",
      "****************************************************************************************************\n",
      "Value counts of EMPLOYER TYPE:\n",
      "EMPLOYER TYPE\n",
      "SELF-EMPLOYED     708\n",
      "SALARIED          262\n",
      "Non-Government     32\n",
      "Government          4\n",
      "Name: count, dtype: int64\n",
      "****************************************************************************************************\n"
     ]
    }
   ],
   "source": [
    "\n",
    "# Check value counts of object columns\n",
    "for col in categorical_cols:\n",
    "    print(f\"Value counts of {col}:\")\n",
    "    print(df1[col].value_counts())\n",
    "    print('*'*100)"
   ]
  },
  {
   "cell_type": "code",
   "execution_count": 17,
   "metadata": {},
   "outputs": [
    {
     "data": {
      "text/plain": [
       "ASSET CTG              1022\n",
       "MARITAL STATUS          981\n",
       "GENDER                    0\n",
       "ADDRESS TYPE            635\n",
       "EMPLOY CONSTITUTION     994\n",
       "EMPLOYER TYPE           994\n",
       "dtype: int64"
      ]
     },
     "execution_count": 17,
     "metadata": {},
     "output_type": "execute_result"
    }
   ],
   "source": [
    "df1[categorical_cols].isnull().sum()"
   ]
  },
  {
   "cell_type": "code",
   "execution_count": 18,
   "metadata": {},
   "outputs": [],
   "source": [
    "for col in categorical_cols:\n",
    "    unique_values = df1[col].dropna().unique()\n",
    "    random_values = np.random.choice(unique_values, size=df1[col].isnull().sum())\n",
    "    df1.loc[df1[col].isnull(), col] = random_values"
   ]
  },
  {
   "cell_type": "code",
   "execution_count": 19,
   "metadata": {},
   "outputs": [
    {
     "data": {
      "text/plain": [
       "ASSET CTG              0\n",
       "MARITAL STATUS         0\n",
       "GENDER                 0\n",
       "ADDRESS TYPE           0\n",
       "EMPLOY CONSTITUTION    0\n",
       "EMPLOYER TYPE          0\n",
       "dtype: int64"
      ]
     },
     "execution_count": 19,
     "metadata": {},
     "output_type": "execute_result"
    }
   ],
   "source": [
    "df1[categorical_cols].isnull().sum()\n"
   ]
  },
  {
   "cell_type": "code",
   "execution_count": 20,
   "metadata": {},
   "outputs": [
    {
     "name": "stdout",
     "output_type": "stream",
     "text": [
      "<class 'pandas.core.frame.DataFrame'>\n",
      "RangeIndex: 2000 entries, 0 to 1999\n",
      "Data columns (total 11 columns):\n",
      " #   Column               Non-Null Count  Dtype  \n",
      "---  ------               --------------  -----  \n",
      " 0   DEALER ID            2000 non-null   int64  \n",
      " 1   Cibil Score          2000 non-null   float64\n",
      " 2   TOTAL ASSET COST     2000 non-null   float64\n",
      " 3   ASSET CTG            2000 non-null   object \n",
      " 4   ASSET MODEL NO       2000 non-null   int64  \n",
      " 5   MARITAL STATUS       2000 non-null   object \n",
      " 6   GENDER               2000 non-null   object \n",
      " 7   ADDRESS TYPE         2000 non-null   object \n",
      " 8   EMPLOY CONSTITUTION  2000 non-null   object \n",
      " 9   EMPLOYER TYPE        2000 non-null   object \n",
      " 10  phone_digitalage     2000 non-null   int64  \n",
      "dtypes: float64(2), int64(3), object(6)\n",
      "memory usage: 172.0+ KB\n"
     ]
    }
   ],
   "source": [
    "df1.info()"
   ]
  },
  {
   "cell_type": "code",
   "execution_count": 21,
   "metadata": {},
   "outputs": [],
   "source": [
    "df1.to_csv('cleaned_dataset/cleaned_test_data.csv',index=False)"
   ]
  },
  {
   "cell_type": "code",
   "execution_count": null,
   "metadata": {},
   "outputs": [],
   "source": []
  }
 ],
 "metadata": {
  "kernelspec": {
   "display_name": "Python 3",
   "language": "python",
   "name": "python3"
  },
  "language_info": {
   "codemirror_mode": {
    "name": "ipython",
    "version": 3
   },
   "file_extension": ".py",
   "mimetype": "text/x-python",
   "name": "python",
   "nbconvert_exporter": "python",
   "pygments_lexer": "ipython3",
   "version": "3.12.5"
  }
 },
 "nbformat": 4,
 "nbformat_minor": 2
}
