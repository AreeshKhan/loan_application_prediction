{
 "cells": [
  {
   "cell_type": "code",
   "execution_count": 47,
   "metadata": {},
   "outputs": [],
   "source": [
    "import pickle\n",
    "import pandas as pd\n",
    "import numpy as np"
   ]
  },
  {
   "cell_type": "code",
   "execution_count": 48,
   "metadata": {},
   "outputs": [],
   "source": [
    "actual_test_data=pd.read_csv('Data/Assignment_Test.csv')"
   ]
  },
  {
   "cell_type": "code",
   "execution_count": 49,
   "metadata": {},
   "outputs": [
    {
     "data": {
      "text/html": [
       "<div>\n",
       "<style scoped>\n",
       "    .dataframe tbody tr th:only-of-type {\n",
       "        vertical-align: middle;\n",
       "    }\n",
       "\n",
       "    .dataframe tbody tr th {\n",
       "        vertical-align: top;\n",
       "    }\n",
       "\n",
       "    .dataframe thead th {\n",
       "        text-align: right;\n",
       "    }\n",
       "</style>\n",
       "<table border=\"1\" class=\"dataframe\">\n",
       "  <thead>\n",
       "    <tr style=\"text-align: right;\">\n",
       "      <th></th>\n",
       "      <th>DEALER ID</th>\n",
       "      <th>Cibil Score</th>\n",
       "      <th>TOTAL ASSET COST</th>\n",
       "      <th>ASSET CTG</th>\n",
       "      <th>ASSET MODEL NO</th>\n",
       "      <th>MARITAL STATUS</th>\n",
       "      <th>GENDER</th>\n",
       "      <th>ADDRESS TYPE</th>\n",
       "      <th>EMPLOY CONSTITUTION</th>\n",
       "      <th>EMPLOYER TYPE</th>\n",
       "      <th>phone_digitalage</th>\n",
       "    </tr>\n",
       "  </thead>\n",
       "  <tbody>\n",
       "    <tr>\n",
       "      <th>0</th>\n",
       "      <td>105615</td>\n",
       "      <td>757.0</td>\n",
       "      <td>95352.0</td>\n",
       "      <td>SCECA</td>\n",
       "      <td>143241</td>\n",
       "      <td>Married</td>\n",
       "      <td>Male</td>\n",
       "      <td>Self/Spouse Owned</td>\n",
       "      <td>SALARIED</td>\n",
       "      <td>SALARIED</td>\n",
       "      <td>676</td>\n",
       "    </tr>\n",
       "    <tr>\n",
       "      <th>1</th>\n",
       "      <td>91593</td>\n",
       "      <td>750.0</td>\n",
       "      <td>75371.0</td>\n",
       "      <td>MOECA</td>\n",
       "      <td>166536</td>\n",
       "      <td>Married</td>\n",
       "      <td>Male</td>\n",
       "      <td>Parental</td>\n",
       "      <td>SELF-EMPLOYED</td>\n",
       "      <td>SELF-EMPLOYED</td>\n",
       "      <td>897</td>\n",
       "    </tr>\n",
       "    <tr>\n",
       "      <th>2</th>\n",
       "      <td>74152</td>\n",
       "      <td>710.0</td>\n",
       "      <td>94983.0</td>\n",
       "      <td>SCECA</td>\n",
       "      <td>134123</td>\n",
       "      <td>Single</td>\n",
       "      <td>Male</td>\n",
       "      <td>Self/Spouse Owned</td>\n",
       "      <td>SELF-EMPLOYED</td>\n",
       "      <td>SELF-EMPLOYED</td>\n",
       "      <td>839</td>\n",
       "    </tr>\n",
       "    <tr>\n",
       "      <th>3</th>\n",
       "      <td>110164</td>\n",
       "      <td>695.0</td>\n",
       "      <td>94535.5</td>\n",
       "      <td>MCECC</td>\n",
       "      <td>143627</td>\n",
       "      <td>Married</td>\n",
       "      <td>Male</td>\n",
       "      <td>RESIDENCE</td>\n",
       "      <td>SALARIED</td>\n",
       "      <td>Government</td>\n",
       "      <td>2050</td>\n",
       "    </tr>\n",
       "    <tr>\n",
       "      <th>4</th>\n",
       "      <td>113037</td>\n",
       "      <td>726.0</td>\n",
       "      <td>90277.0</td>\n",
       "      <td>MCECA</td>\n",
       "      <td>143948</td>\n",
       "      <td>Single</td>\n",
       "      <td>Male</td>\n",
       "      <td>Parental</td>\n",
       "      <td>SELF-EMPLOYED</td>\n",
       "      <td>SELF-EMPLOYED</td>\n",
       "      <td>-1</td>\n",
       "    </tr>\n",
       "  </tbody>\n",
       "</table>\n",
       "</div>"
      ],
      "text/plain": [
       "   DEALER ID  Cibil Score  TOTAL ASSET COST ASSET CTG  ASSET MODEL NO  \\\n",
       "0     105615        757.0           95352.0     SCECA          143241   \n",
       "1      91593        750.0           75371.0     MOECA          166536   \n",
       "2      74152        710.0           94983.0     SCECA          134123   \n",
       "3     110164        695.0           94535.5     MCECC          143627   \n",
       "4     113037        726.0           90277.0     MCECA          143948   \n",
       "\n",
       "  MARITAL STATUS GENDER       ADDRESS TYPE EMPLOY CONSTITUTION  EMPLOYER TYPE  \\\n",
       "0        Married   Male  Self/Spouse Owned            SALARIED       SALARIED   \n",
       "1        Married   Male           Parental       SELF-EMPLOYED  SELF-EMPLOYED   \n",
       "2         Single   Male  Self/Spouse Owned       SELF-EMPLOYED  SELF-EMPLOYED   \n",
       "3        Married   Male          RESIDENCE            SALARIED     Government   \n",
       "4         Single   Male           Parental       SELF-EMPLOYED  SELF-EMPLOYED   \n",
       "\n",
       "   phone_digitalage  \n",
       "0               676  \n",
       "1               897  \n",
       "2               839  \n",
       "3              2050  \n",
       "4                -1  "
      ]
     },
     "execution_count": 49,
     "metadata": {},
     "output_type": "execute_result"
    }
   ],
   "source": [
    "x_test=pd.read_csv(\"cleaned_dataset/cleaned_test_data.csv\")\n",
    "x_test.head()"
   ]
  },
  {
   "cell_type": "code",
   "execution_count": 50,
   "metadata": {},
   "outputs": [],
   "source": [
    "with open('models/Random.pkl', 'rb') as f:\n",
    "    Random = pickle.load(f)\n",
    "\n",
    "with open('models/Label_encoder.pkl', 'rb') as f:\n",
    "    label_encoders = pickle.load(f)"
   ]
  },
  {
   "cell_type": "markdown",
   "metadata": {},
   "source": [
    "There is new Category in ADDRESS TYPE  column 'OTHERS' replaying it with -1"
   ]
  },
  {
   "cell_type": "code",
   "execution_count": 51,
   "metadata": {},
   "outputs": [],
   "source": [
    "categorical_cols = x_test.select_dtypes(include='object').columns\n",
    "\n",
    "# Transform each categorical column in the test set\n",
    "for col in categorical_cols:\n",
    "    if col in label_encoders:\n",
    "        le = label_encoders[col]  # Get the corresponding LabelEncoder\n",
    "        current_classes = le.classes_\n",
    "        \n",
    "        # Replace unseen labels with -1\n",
    "        x_test[col] = x_test[col].apply(lambda x: x if x in current_classes else -1)\n",
    "        \n",
    "        # Transform the data\n",
    "        x_test[col] = x_test[col].apply(lambda x: le.transform([x])[0] if x != -1 else -1)\n",
    "    else:\n",
    "        print(f\"Warning: Column {col} not found in the training set encoders.\")"
   ]
  },
  {
   "cell_type": "code",
   "execution_count": 52,
   "metadata": {},
   "outputs": [
    {
     "data": {
      "text/plain": [
       "DEALER ID              0\n",
       "Cibil Score            0\n",
       "TOTAL ASSET COST       0\n",
       "ASSET CTG              0\n",
       "ASSET MODEL NO         0\n",
       "MARITAL STATUS         0\n",
       "GENDER                 0\n",
       "ADDRESS TYPE           0\n",
       "EMPLOY CONSTITUTION    0\n",
       "EMPLOYER TYPE          0\n",
       "phone_digitalage       0\n",
       "dtype: int64"
      ]
     },
     "execution_count": 52,
     "metadata": {},
     "output_type": "execute_result"
    }
   ],
   "source": [
    "x_test.isnull().sum()"
   ]
  },
  {
   "cell_type": "code",
   "execution_count": 53,
   "metadata": {},
   "outputs": [
    {
     "data": {
      "text/plain": [
       "Application Status\n",
       "APPROVED              1636\n",
       "DECLINED               364\n",
       "Name: count, dtype: int64"
      ]
     },
     "execution_count": 53,
     "metadata": {},
     "output_type": "execute_result"
    }
   ],
   "source": [
    "pred2=Random.predict(x_test)\n",
    "df1 = pd.DataFrame({'Application Status': pred2})\n",
    "df1['Application Status'] = df1['Application Status'].map({1: 'APPROVED', 0: 'DECLINED'})\n",
    "df1.value_counts()\n"
   ]
  },
  {
   "cell_type": "code",
   "execution_count": 54,
   "metadata": {},
   "outputs": [],
   "source": [
    "df_final =pd.DataFrame({'UID': actual_test_data['UID'], 'Prediction': df1['Application Status']})\n"
   ]
  },
  {
   "cell_type": "code",
   "execution_count": 56,
   "metadata": {},
   "outputs": [],
   "source": [
    "df_final.to_csv(\"Test Predictions/predictions.csv\",index=False)\n"
   ]
  },
  {
   "cell_type": "code",
   "execution_count": null,
   "metadata": {},
   "outputs": [],
   "source": []
  }
 ],
 "metadata": {
  "kernelspec": {
   "display_name": "Python 3",
   "language": "python",
   "name": "python3"
  },
  "language_info": {
   "codemirror_mode": {
    "name": "ipython",
    "version": 3
   },
   "file_extension": ".py",
   "mimetype": "text/x-python",
   "name": "python",
   "nbconvert_exporter": "python",
   "pygments_lexer": "ipython3",
   "version": "3.12.5"
  }
 },
 "nbformat": 4,
 "nbformat_minor": 2
}
